{
 "cells": [
  {
   "cell_type": "code",
   "execution_count": null,
   "metadata": {},
   "outputs": [],
   "source": [
    "import numpy as np\n",
    "import pandas as pd\n",
    "import matplotlib.pyplot as plt\n",
    "import math \n",
    "\n",
    "def receive_data():\n",
    "    str_data = input(\"Enter data: \\n\")\n",
    "\n",
    "    # convert each element as integers\n",
    "    li = []\n",
    "    for i in str_data.split(\",\"):\n",
    "        li.append(int(i))\n",
    "    return li\n",
    "\n",
    "def frequency(data):\n",
    "    return np.unique(data, return_counts=True)\n",
    "    \n",
    "def probabilidades(f):\n",
    "    return f[1] / f[1].sum()\n",
    "\n",
    "def momentoUno(p, valores_unicos):\n",
    "    return p * valores_unicos\n",
    "\n",
    "def momentoDos(p, valores_unicos):\n",
    "    return p * valores_unicos ** 2\n",
    "\n",
    "def momentoTres(p, valores_unicos):\n",
    "    return p * valores_unicos ** 3\n",
    "\n",
    "def momentoCuatro(p, valores_unicos):\n",
    "    return p * valores_unicos ** 4\n",
    "\n",
    "def varianza(m1, m2):\n",
    "    return m2 - m1**2\n",
    "\n",
    "data = np.array(receive_data())\n",
    "f = frequency(data)\n",
    "valores_unicos = f[0]\n",
    "frecuencias = f[1]\n",
    "p = probabilidades(f)\n",
    "m1 = momentoUno(p, valores_unicos)\n",
    "m2 = momentoDos(p, valores_unicos)\n",
    "m3 = momentoTres(p, valores_unicos)\n",
    "m4 = momentoCuatro(p, valores_unicos)\n",
    "varianzaa = varianza(m1.sum(), m2.sum())\n",
    "\n",
    "df = pd.DataFrame(data=np.array([valores_unicos,frecuencias,p,m1,m2,m3,m4]), columns=[\"valores\",\"frecuencias\",\"probabilidades\",\"m1\",\"m2\",\"m3\",\"m4\"])\n",
    "df\n"
   ]
  },
  {
   "cell_type": "code",
   "execution_count": null,
   "metadata": {},
   "outputs": [],
   "source": [
    "r = pd.DataFrame(data=np.array([['resultados',frecuencias.sum(),p.sum(),m1.sum(),m2.sum(),m3.sum(),m4.sum()]]), columns=[\"\",\"frecuencias\",\"probabilidades\",\"m1\",\"m2\",\"m3\",\"m4\"] )"
   ]
  },
  {
   "cell_type": "code",
   "execution_count": null,
   "metadata": {},
   "outputs": [],
   "source": [
    "r"
   ]
  },
  {
   "cell_type": "code",
   "execution_count": null,
   "metadata": {},
   "outputs": [],
   "source": [
    "varianzaa\n"
   ]
  },
  {
   "cell_type": "code",
   "execution_count": null,
   "metadata": {},
   "outputs": [],
   "source": []
  }
 ],
 "metadata": {
  "kernelspec": {
   "display_name": "Python 3",
   "language": "python",
   "name": "python3"
  },
  "language_info": {
   "codemirror_mode": {
    "name": "ipython",
    "version": 3
   },
   "file_extension": ".py",
   "mimetype": "text/x-python",
   "name": "python",
   "nbconvert_exporter": "python",
   "pygments_lexer": "ipython3",
   "version": "3.7.6"
  }
 },
 "nbformat": 4,
 "nbformat_minor": 4
}
